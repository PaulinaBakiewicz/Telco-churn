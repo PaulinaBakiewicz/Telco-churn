{
 "cells": [
  {
   "cell_type": "markdown",
   "id": "d960dd8f-c023-47cd-887e-431c9c07a28e",
   "metadata": {},
   "source": [
    "# Telco customer churn data analysis \n",
    "\n",
    "This Jupyter notebook explores Telco churn data available on [Kaggle](https://www.kaggle.com/datasets/blastchar/telco-customer-churn)"
   ]
  },
  {
   "cell_type": "code",
   "execution_count": 2,
   "id": "55fa4760-48c1-490e-a87a-c44fff147422",
   "metadata": {},
   "outputs": [],
   "source": [
    "import pandas as pd\n",
    "import seaborn as sns\n",
    "import matplotlib.pyplot as plt\n",
    "import numpy as np"
   ]
  },
  {
   "cell_type": "code",
   "execution_count": 3,
   "id": "f167be7e-a2d9-49d1-a27b-93825db631f1",
   "metadata": {},
   "outputs": [],
   "source": [
    "#reading the csv file with data\n",
    "df = pd.read_csv(r\"C:\\Users\\Paulina\\Desktop\\Projects_Git\\Telcom_churn\\data\\Telco_churn.csv\")"
   ]
  },
  {
   "cell_type": "markdown",
   "id": "c848c959-fe31-4209-aae0-35e97f8b1d88",
   "metadata": {},
   "source": [
    "## Data exploration\n",
    "\n",
    "This part explores the columns and the values included in it."
   ]
  },
  {
   "cell_type": "code",
   "execution_count": 5,
   "id": "511cd90d-c7ca-4fff-9a60-d97f2ccd90a3",
   "metadata": {
    "scrolled": true
   },
   "outputs": [
    {
     "name": "stdout",
     "output_type": "stream",
     "text": [
      "<class 'pandas.core.frame.DataFrame'>\n",
      "RangeIndex: 7043 entries, 0 to 7042\n",
      "Data columns (total 21 columns):\n",
      " #   Column            Non-Null Count  Dtype  \n",
      "---  ------            --------------  -----  \n",
      " 0   customerID        7043 non-null   object \n",
      " 1   gender            7043 non-null   object \n",
      " 2   SeniorCitizen     7043 non-null   int64  \n",
      " 3   Partner           7043 non-null   object \n",
      " 4   Dependents        7043 non-null   object \n",
      " 5   tenure            7043 non-null   int64  \n",
      " 6   PhoneService      7043 non-null   object \n",
      " 7   MultipleLines     7043 non-null   object \n",
      " 8   InternetService   7043 non-null   object \n",
      " 9   OnlineSecurity    7043 non-null   object \n",
      " 10  OnlineBackup      7043 non-null   object \n",
      " 11  DeviceProtection  7043 non-null   object \n",
      " 12  TechSupport       7043 non-null   object \n",
      " 13  StreamingTV       7043 non-null   object \n",
      " 14  StreamingMovies   7043 non-null   object \n",
      " 15  Contract          7043 non-null   object \n",
      " 16  PaperlessBilling  7043 non-null   object \n",
      " 17  PaymentMethod     7043 non-null   object \n",
      " 18  MonthlyCharges    7043 non-null   float64\n",
      " 19  TotalCharges      7043 non-null   object \n",
      " 20  Churn             7043 non-null   object \n",
      "dtypes: float64(1), int64(2), object(18)\n",
      "memory usage: 1.1+ MB\n"
     ]
    }
   ],
   "source": [
    "df.info() #shows column entry types and the number of filled rows in each column"
   ]
  },
  {
   "cell_type": "code",
   "execution_count": 6,
   "id": "53ccaba0-6fe1-4b2c-9fbd-f40ae47704a5",
   "metadata": {
    "scrolled": true
   },
   "outputs": [
    {
     "data": {
      "text/html": [
       "<div>\n",
       "<style scoped>\n",
       "    .dataframe tbody tr th:only-of-type {\n",
       "        vertical-align: middle;\n",
       "    }\n",
       "\n",
       "    .dataframe tbody tr th {\n",
       "        vertical-align: top;\n",
       "    }\n",
       "\n",
       "    .dataframe thead th {\n",
       "        text-align: right;\n",
       "    }\n",
       "</style>\n",
       "<table border=\"1\" class=\"dataframe\">\n",
       "  <thead>\n",
       "    <tr style=\"text-align: right;\">\n",
       "      <th></th>\n",
       "      <th>customerID</th>\n",
       "      <th>gender</th>\n",
       "      <th>SeniorCitizen</th>\n",
       "      <th>Partner</th>\n",
       "      <th>Dependents</th>\n",
       "      <th>tenure</th>\n",
       "      <th>PhoneService</th>\n",
       "      <th>MultipleLines</th>\n",
       "      <th>InternetService</th>\n",
       "      <th>OnlineSecurity</th>\n",
       "      <th>...</th>\n",
       "      <th>DeviceProtection</th>\n",
       "      <th>TechSupport</th>\n",
       "      <th>StreamingTV</th>\n",
       "      <th>StreamingMovies</th>\n",
       "      <th>Contract</th>\n",
       "      <th>PaperlessBilling</th>\n",
       "      <th>PaymentMethod</th>\n",
       "      <th>MonthlyCharges</th>\n",
       "      <th>TotalCharges</th>\n",
       "      <th>Churn</th>\n",
       "    </tr>\n",
       "  </thead>\n",
       "  <tbody>\n",
       "    <tr>\n",
       "      <th>0</th>\n",
       "      <td>7590-VHVEG</td>\n",
       "      <td>Female</td>\n",
       "      <td>0</td>\n",
       "      <td>Yes</td>\n",
       "      <td>No</td>\n",
       "      <td>1</td>\n",
       "      <td>No</td>\n",
       "      <td>No phone service</td>\n",
       "      <td>DSL</td>\n",
       "      <td>No</td>\n",
       "      <td>...</td>\n",
       "      <td>No</td>\n",
       "      <td>No</td>\n",
       "      <td>No</td>\n",
       "      <td>No</td>\n",
       "      <td>Month-to-month</td>\n",
       "      <td>Yes</td>\n",
       "      <td>Electronic check</td>\n",
       "      <td>29.85</td>\n",
       "      <td>29.85</td>\n",
       "      <td>No</td>\n",
       "    </tr>\n",
       "    <tr>\n",
       "      <th>1</th>\n",
       "      <td>5575-GNVDE</td>\n",
       "      <td>Male</td>\n",
       "      <td>0</td>\n",
       "      <td>No</td>\n",
       "      <td>No</td>\n",
       "      <td>34</td>\n",
       "      <td>Yes</td>\n",
       "      <td>No</td>\n",
       "      <td>DSL</td>\n",
       "      <td>Yes</td>\n",
       "      <td>...</td>\n",
       "      <td>Yes</td>\n",
       "      <td>No</td>\n",
       "      <td>No</td>\n",
       "      <td>No</td>\n",
       "      <td>One year</td>\n",
       "      <td>No</td>\n",
       "      <td>Mailed check</td>\n",
       "      <td>56.95</td>\n",
       "      <td>1889.5</td>\n",
       "      <td>No</td>\n",
       "    </tr>\n",
       "    <tr>\n",
       "      <th>2</th>\n",
       "      <td>3668-QPYBK</td>\n",
       "      <td>Male</td>\n",
       "      <td>0</td>\n",
       "      <td>No</td>\n",
       "      <td>No</td>\n",
       "      <td>2</td>\n",
       "      <td>Yes</td>\n",
       "      <td>No</td>\n",
       "      <td>DSL</td>\n",
       "      <td>Yes</td>\n",
       "      <td>...</td>\n",
       "      <td>No</td>\n",
       "      <td>No</td>\n",
       "      <td>No</td>\n",
       "      <td>No</td>\n",
       "      <td>Month-to-month</td>\n",
       "      <td>Yes</td>\n",
       "      <td>Mailed check</td>\n",
       "      <td>53.85</td>\n",
       "      <td>108.15</td>\n",
       "      <td>Yes</td>\n",
       "    </tr>\n",
       "    <tr>\n",
       "      <th>3</th>\n",
       "      <td>7795-CFOCW</td>\n",
       "      <td>Male</td>\n",
       "      <td>0</td>\n",
       "      <td>No</td>\n",
       "      <td>No</td>\n",
       "      <td>45</td>\n",
       "      <td>No</td>\n",
       "      <td>No phone service</td>\n",
       "      <td>DSL</td>\n",
       "      <td>Yes</td>\n",
       "      <td>...</td>\n",
       "      <td>Yes</td>\n",
       "      <td>Yes</td>\n",
       "      <td>No</td>\n",
       "      <td>No</td>\n",
       "      <td>One year</td>\n",
       "      <td>No</td>\n",
       "      <td>Bank transfer (automatic)</td>\n",
       "      <td>42.30</td>\n",
       "      <td>1840.75</td>\n",
       "      <td>No</td>\n",
       "    </tr>\n",
       "    <tr>\n",
       "      <th>4</th>\n",
       "      <td>9237-HQITU</td>\n",
       "      <td>Female</td>\n",
       "      <td>0</td>\n",
       "      <td>No</td>\n",
       "      <td>No</td>\n",
       "      <td>2</td>\n",
       "      <td>Yes</td>\n",
       "      <td>No</td>\n",
       "      <td>Fiber optic</td>\n",
       "      <td>No</td>\n",
       "      <td>...</td>\n",
       "      <td>No</td>\n",
       "      <td>No</td>\n",
       "      <td>No</td>\n",
       "      <td>No</td>\n",
       "      <td>Month-to-month</td>\n",
       "      <td>Yes</td>\n",
       "      <td>Electronic check</td>\n",
       "      <td>70.70</td>\n",
       "      <td>151.65</td>\n",
       "      <td>Yes</td>\n",
       "    </tr>\n",
       "  </tbody>\n",
       "</table>\n",
       "<p>5 rows × 21 columns</p>\n",
       "</div>"
      ],
      "text/plain": [
       "   customerID  gender  SeniorCitizen Partner Dependents  tenure PhoneService  \\\n",
       "0  7590-VHVEG  Female              0     Yes         No       1           No   \n",
       "1  5575-GNVDE    Male              0      No         No      34          Yes   \n",
       "2  3668-QPYBK    Male              0      No         No       2          Yes   \n",
       "3  7795-CFOCW    Male              0      No         No      45           No   \n",
       "4  9237-HQITU  Female              0      No         No       2          Yes   \n",
       "\n",
       "      MultipleLines InternetService OnlineSecurity  ... DeviceProtection  \\\n",
       "0  No phone service             DSL             No  ...               No   \n",
       "1                No             DSL            Yes  ...              Yes   \n",
       "2                No             DSL            Yes  ...               No   \n",
       "3  No phone service             DSL            Yes  ...              Yes   \n",
       "4                No     Fiber optic             No  ...               No   \n",
       "\n",
       "  TechSupport StreamingTV StreamingMovies        Contract PaperlessBilling  \\\n",
       "0          No          No              No  Month-to-month              Yes   \n",
       "1          No          No              No        One year               No   \n",
       "2          No          No              No  Month-to-month              Yes   \n",
       "3         Yes          No              No        One year               No   \n",
       "4          No          No              No  Month-to-month              Yes   \n",
       "\n",
       "               PaymentMethod MonthlyCharges  TotalCharges Churn  \n",
       "0           Electronic check          29.85         29.85    No  \n",
       "1               Mailed check          56.95        1889.5    No  \n",
       "2               Mailed check          53.85        108.15   Yes  \n",
       "3  Bank transfer (automatic)          42.30       1840.75    No  \n",
       "4           Electronic check          70.70        151.65   Yes  \n",
       "\n",
       "[5 rows x 21 columns]"
      ]
     },
     "execution_count": 6,
     "metadata": {},
     "output_type": "execute_result"
    }
   ],
   "source": [
    "df.head()"
   ]
  },
  {
   "cell_type": "markdown",
   "id": "44369ae8-082f-4029-a020-cda16c3de6f3",
   "metadata": {},
   "source": [
    "We can see that there are numerous columns with Yes/No values - I will be chnaging it into numerical values 0 and 1 during data cleaning. Any machine learning models will not be able to use categorical values so it's better to change them. Additionally, TotalCharges is registered as an object but they look like floating numbers. This will be changed as well to allow calculations. "
   ]
  },
  {
   "cell_type": "markdown",
   "id": "0edc13f3-50bd-4927-bdc6-d0d135791f64",
   "metadata": {},
   "source": [
    "I can anticipate that there will be probably no missing values after seeing the Non-Null count in `.head()`, but let's check it to be sure."
   ]
  },
  {
   "cell_type": "code",
   "execution_count": 9,
   "id": "91d27533-7879-40a2-b3e2-8b5a3edb540a",
   "metadata": {},
   "outputs": [
    {
     "name": "stdout",
     "output_type": "stream",
     "text": [
      "Total number of missing values:\n",
      "customerID          0\n",
      "gender              0\n",
      "SeniorCitizen       0\n",
      "Partner             0\n",
      "Dependents          0\n",
      "tenure              0\n",
      "PhoneService        0\n",
      "MultipleLines       0\n",
      "InternetService     0\n",
      "OnlineSecurity      0\n",
      "OnlineBackup        0\n",
      "DeviceProtection    0\n",
      "TechSupport         0\n",
      "StreamingTV         0\n",
      "StreamingMovies     0\n",
      "Contract            0\n",
      "PaperlessBilling    0\n",
      "PaymentMethod       0\n",
      "MonthlyCharges      0\n",
      "TotalCharges        0\n",
      "Churn               0\n",
      "dtype: int64\n"
     ]
    }
   ],
   "source": [
    "#checking for missing values\n",
    "print('Total number of missing values:')\n",
    "print(df.isna().sum())"
   ]
  },
  {
   "cell_type": "markdown",
   "id": "4f4fcf63-e25c-4837-946a-b7017713ae35",
   "metadata": {},
   "source": [
    "Let's explore unique values for our cathegorical columns, because they may contain more than just `'Yes'` and `'No'` entries. "
   ]
  },
  {
   "cell_type": "code",
   "execution_count": 11,
   "id": "d7a58390-ed0f-4140-95d9-770389086d47",
   "metadata": {},
   "outputs": [
    {
     "name": "stdout",
     "output_type": "stream",
     "text": [
      "Column:customerID\n",
      "Unique values (7043):['7590-VHVEG' '5575-GNVDE' '3668-QPYBK' ... '4801-JZAZL' '8361-LTMKD'\n",
      " '3186-AJIEK']\n",
      "----------------------------------------\n",
      "Column:gender\n",
      "Unique values (2):['Female' 'Male']\n",
      "----------------------------------------\n",
      "Column:Partner\n",
      "Unique values (2):['Yes' 'No']\n",
      "----------------------------------------\n",
      "Column:Dependents\n",
      "Unique values (2):['No' 'Yes']\n",
      "----------------------------------------\n",
      "Column:PhoneService\n",
      "Unique values (2):['No' 'Yes']\n",
      "----------------------------------------\n",
      "Column:MultipleLines\n",
      "Unique values (3):['No phone service' 'No' 'Yes']\n",
      "----------------------------------------\n",
      "Column:InternetService\n",
      "Unique values (3):['DSL' 'Fiber optic' 'No']\n",
      "----------------------------------------\n",
      "Column:OnlineSecurity\n",
      "Unique values (3):['No' 'Yes' 'No internet service']\n",
      "----------------------------------------\n",
      "Column:OnlineBackup\n",
      "Unique values (3):['Yes' 'No' 'No internet service']\n",
      "----------------------------------------\n",
      "Column:DeviceProtection\n",
      "Unique values (3):['No' 'Yes' 'No internet service']\n",
      "----------------------------------------\n",
      "Column:TechSupport\n",
      "Unique values (3):['No' 'Yes' 'No internet service']\n",
      "----------------------------------------\n",
      "Column:StreamingTV\n",
      "Unique values (3):['No' 'Yes' 'No internet service']\n",
      "----------------------------------------\n",
      "Column:StreamingMovies\n",
      "Unique values (3):['No' 'Yes' 'No internet service']\n",
      "----------------------------------------\n",
      "Column:Contract\n",
      "Unique values (3):['Month-to-month' 'One year' 'Two year']\n",
      "----------------------------------------\n",
      "Column:PaperlessBilling\n",
      "Unique values (2):['Yes' 'No']\n",
      "----------------------------------------\n",
      "Column:PaymentMethod\n",
      "Unique values (4):['Electronic check' 'Mailed check' 'Bank transfer (automatic)'\n",
      " 'Credit card (automatic)']\n",
      "----------------------------------------\n",
      "Column:TotalCharges\n",
      "Unique values (6531):['29.85' '1889.5' '108.15' ... '346.45' '306.6' '6844.5']\n",
      "----------------------------------------\n",
      "Column:Churn\n",
      "Unique values (2):['No' 'Yes']\n",
      "----------------------------------------\n"
     ]
    }
   ],
   "source": [
    "cat_cols = df.select_dtypes(include = 'object').columns\n",
    "\n",
    "for col in cat_cols:\n",
    "    uniques = df[col].unique()\n",
    "    print(f'Column:{col}')\n",
    "    print(f'Unique values ({len(uniques)}):{uniques}')\n",
    "    print('-'*40)"
   ]
  },
  {
   "cell_type": "markdown",
   "id": "d025d7ca-3db7-4b14-bf98-0bf28cb05fd0",
   "metadata": {},
   "source": [
    "## Data cleaning\n",
    "\n",
    "Includes changing datatypes and encoding categorical variables for modelling. Let's change all 'Yes' into 1 and 'No' into 0. "
   ]
  },
  {
   "cell_type": "code",
   "execution_count": 13,
   "id": "82742f59-5c63-4e36-80cf-1647c9668475",
   "metadata": {},
   "outputs": [],
   "source": [
    "# changing the string entires into numeric values with errors showing as NaN.\n",
    "df['TotalCharges'] = pd.to_numeric(df['TotalCharges'], errors='coerce')"
   ]
  },
  {
   "cell_type": "code",
   "execution_count": 14,
   "id": "b88cad61-ca8e-4cca-aff1-dc4b67aad83a",
   "metadata": {},
   "outputs": [],
   "source": [
    "# creating a copy of dataframe to have a backup before implementing big changes\n",
    "# especially useful for data visualizations in Tableau because we retain string values instead of numerical ones\n",
    "df_copy = df.copy()"
   ]
  },
  {
   "cell_type": "code",
   "execution_count": 15,
   "id": "7c1b18c1-64cb-4f17-9337-8518ec5997e8",
   "metadata": {},
   "outputs": [],
   "source": [
    "change_yes_no = ['Partner', 'Dependents', 'PhoneService', 'PaperlessBilling', 'Churn']\n",
    "change_yes_no_nis = ['OnlineSecurity', 'OnlineBackup', 'DeviceProtection', 'TechSupport', 'StreamingTV', 'StreamingMovies']\n",
    "\n",
    "\n",
    "# changing the yes into 1 and No into 0 in columns that only have those 2 unique entries:\n",
    "for col in change_yes_no:\n",
    "    df[col] = df[col].replace('Yes', 1)\n",
    "    df[col] = df[col].replace('No', 0)\n",
    "\n",
    "# changing Yes into 1, No into 0 and No internet service into 2 \n",
    "for col in change_yes_no_nis:\n",
    "    df[col] = df[col].replace('Yes', 1)\n",
    "    df[col] = df[col].replace('No', 0)\n",
    "    df[col] = df[col].replace('No internet service', 2)\n",
    "\n",
    "# changing female into 0 and male into 1\n",
    "df['gender'] = df['gender'].replace('Female', 0)\n",
    "df['gender'] = df['gender'].replace('Male', 1)\n",
    "\n",
    "# changing the MultipleLines in similiar way\n",
    "df['MultipleLines'] = df['MultipleLines'].replace('No', 0)\n",
    "df['MultipleLines'] = df['MultipleLines'].replace('Yes', 1)\n",
    "df['MultipleLines'] = df['MultipleLines'].replace('No phone service', 2)\n"
   ]
  },
  {
   "cell_type": "code",
   "execution_count": 16,
   "id": "1ca4d719-f37d-4116-a894-661e537c6139",
   "metadata": {},
   "outputs": [
    {
     "name": "stdout",
     "output_type": "stream",
     "text": [
      "Column:customerID\n",
      "Unique values (7043):['7590-VHVEG' '5575-GNVDE' '3668-QPYBK' ... '4801-JZAZL' '8361-LTMKD'\n",
      " '3186-AJIEK']\n",
      "----------------------------------------\n",
      "Column:InternetService\n",
      "Unique values (3):['DSL' 'Fiber optic' 'No']\n",
      "----------------------------------------\n",
      "Column:Contract\n",
      "Unique values (3):['Month-to-month' 'One year' 'Two year']\n",
      "----------------------------------------\n",
      "Column:PaymentMethod\n",
      "Unique values (4):['Electronic check' 'Mailed check' 'Bank transfer (automatic)'\n",
      " 'Credit card (automatic)']\n",
      "----------------------------------------\n"
     ]
    }
   ],
   "source": [
    "cat_cols = df.select_dtypes(include = 'object').columns\n",
    "\n",
    "for col in cat_cols:\n",
    "    uniques = df[col].unique()\n",
    "    print(f'Column:{col}')\n",
    "    print(f'Unique values ({len(uniques)}):{uniques}')\n",
    "    print('-'*40)"
   ]
  },
  {
   "cell_type": "markdown",
   "id": "79311b46-4130-4b45-adfd-294f6a1c5769",
   "metadata": {},
   "source": [
    "I'll leave the rest of the columns as they are right now to preserve the information. "
   ]
  },
  {
   "cell_type": "markdown",
   "id": "844dad96-d130-4277-ba89-0b31b28eede9",
   "metadata": {},
   "source": [
    "## Exploratory Data Analysis\n",
    "\n",
    "This section contains the basic data analysis to explore the distributions of our values."
   ]
  },
  {
   "cell_type": "code",
   "execution_count": 19,
   "id": "3c997e4c-0d5a-4917-905a-415b84adb81c",
   "metadata": {},
   "outputs": [
    {
     "data": {
      "text/html": [
       "<div>\n",
       "<style scoped>\n",
       "    .dataframe tbody tr th:only-of-type {\n",
       "        vertical-align: middle;\n",
       "    }\n",
       "\n",
       "    .dataframe tbody tr th {\n",
       "        vertical-align: top;\n",
       "    }\n",
       "\n",
       "    .dataframe thead th {\n",
       "        text-align: right;\n",
       "    }\n",
       "</style>\n",
       "<table border=\"1\" class=\"dataframe\">\n",
       "  <thead>\n",
       "    <tr style=\"text-align: right;\">\n",
       "      <th></th>\n",
       "      <th>customerID</th>\n",
       "      <th>gender</th>\n",
       "      <th>SeniorCitizen</th>\n",
       "      <th>Partner</th>\n",
       "      <th>Dependents</th>\n",
       "      <th>tenure</th>\n",
       "      <th>PhoneService</th>\n",
       "      <th>MultipleLines</th>\n",
       "      <th>InternetService</th>\n",
       "      <th>OnlineSecurity</th>\n",
       "      <th>...</th>\n",
       "      <th>DeviceProtection</th>\n",
       "      <th>TechSupport</th>\n",
       "      <th>StreamingTV</th>\n",
       "      <th>StreamingMovies</th>\n",
       "      <th>Contract</th>\n",
       "      <th>PaperlessBilling</th>\n",
       "      <th>PaymentMethod</th>\n",
       "      <th>MonthlyCharges</th>\n",
       "      <th>TotalCharges</th>\n",
       "      <th>Churn</th>\n",
       "    </tr>\n",
       "  </thead>\n",
       "  <tbody>\n",
       "    <tr>\n",
       "      <th>count</th>\n",
       "      <td>7043</td>\n",
       "      <td>7043.000000</td>\n",
       "      <td>7043.000000</td>\n",
       "      <td>7043.000000</td>\n",
       "      <td>7043.000000</td>\n",
       "      <td>7043.000000</td>\n",
       "      <td>7043.000000</td>\n",
       "      <td>7043.000000</td>\n",
       "      <td>7043</td>\n",
       "      <td>7043.000000</td>\n",
       "      <td>...</td>\n",
       "      <td>7043.000000</td>\n",
       "      <td>7043.000000</td>\n",
       "      <td>7043.000000</td>\n",
       "      <td>7043.000000</td>\n",
       "      <td>7043</td>\n",
       "      <td>7043.000000</td>\n",
       "      <td>7043</td>\n",
       "      <td>7043.000000</td>\n",
       "      <td>7032.000000</td>\n",
       "      <td>7043.000000</td>\n",
       "    </tr>\n",
       "    <tr>\n",
       "      <th>unique</th>\n",
       "      <td>7043</td>\n",
       "      <td>NaN</td>\n",
       "      <td>NaN</td>\n",
       "      <td>NaN</td>\n",
       "      <td>NaN</td>\n",
       "      <td>NaN</td>\n",
       "      <td>NaN</td>\n",
       "      <td>NaN</td>\n",
       "      <td>3</td>\n",
       "      <td>NaN</td>\n",
       "      <td>...</td>\n",
       "      <td>NaN</td>\n",
       "      <td>NaN</td>\n",
       "      <td>NaN</td>\n",
       "      <td>NaN</td>\n",
       "      <td>3</td>\n",
       "      <td>NaN</td>\n",
       "      <td>4</td>\n",
       "      <td>NaN</td>\n",
       "      <td>NaN</td>\n",
       "      <td>NaN</td>\n",
       "    </tr>\n",
       "    <tr>\n",
       "      <th>top</th>\n",
       "      <td>7590-VHVEG</td>\n",
       "      <td>NaN</td>\n",
       "      <td>NaN</td>\n",
       "      <td>NaN</td>\n",
       "      <td>NaN</td>\n",
       "      <td>NaN</td>\n",
       "      <td>NaN</td>\n",
       "      <td>NaN</td>\n",
       "      <td>Fiber optic</td>\n",
       "      <td>NaN</td>\n",
       "      <td>...</td>\n",
       "      <td>NaN</td>\n",
       "      <td>NaN</td>\n",
       "      <td>NaN</td>\n",
       "      <td>NaN</td>\n",
       "      <td>Month-to-month</td>\n",
       "      <td>NaN</td>\n",
       "      <td>Electronic check</td>\n",
       "      <td>NaN</td>\n",
       "      <td>NaN</td>\n",
       "      <td>NaN</td>\n",
       "    </tr>\n",
       "    <tr>\n",
       "      <th>freq</th>\n",
       "      <td>1</td>\n",
       "      <td>NaN</td>\n",
       "      <td>NaN</td>\n",
       "      <td>NaN</td>\n",
       "      <td>NaN</td>\n",
       "      <td>NaN</td>\n",
       "      <td>NaN</td>\n",
       "      <td>NaN</td>\n",
       "      <td>3096</td>\n",
       "      <td>NaN</td>\n",
       "      <td>...</td>\n",
       "      <td>NaN</td>\n",
       "      <td>NaN</td>\n",
       "      <td>NaN</td>\n",
       "      <td>NaN</td>\n",
       "      <td>3875</td>\n",
       "      <td>NaN</td>\n",
       "      <td>2365</td>\n",
       "      <td>NaN</td>\n",
       "      <td>NaN</td>\n",
       "      <td>NaN</td>\n",
       "    </tr>\n",
       "    <tr>\n",
       "      <th>mean</th>\n",
       "      <td>NaN</td>\n",
       "      <td>0.504756</td>\n",
       "      <td>0.162147</td>\n",
       "      <td>0.483033</td>\n",
       "      <td>0.299588</td>\n",
       "      <td>32.371149</td>\n",
       "      <td>0.903166</td>\n",
       "      <td>0.615505</td>\n",
       "      <td>NaN</td>\n",
       "      <td>0.720006</td>\n",
       "      <td>...</td>\n",
       "      <td>0.777226</td>\n",
       "      <td>0.723555</td>\n",
       "      <td>0.817691</td>\n",
       "      <td>0.821241</td>\n",
       "      <td>NaN</td>\n",
       "      <td>0.592219</td>\n",
       "      <td>NaN</td>\n",
       "      <td>64.761692</td>\n",
       "      <td>2283.300441</td>\n",
       "      <td>0.265370</td>\n",
       "    </tr>\n",
       "    <tr>\n",
       "      <th>std</th>\n",
       "      <td>NaN</td>\n",
       "      <td>0.500013</td>\n",
       "      <td>0.368612</td>\n",
       "      <td>0.499748</td>\n",
       "      <td>0.458110</td>\n",
       "      <td>24.559481</td>\n",
       "      <td>0.295752</td>\n",
       "      <td>0.656039</td>\n",
       "      <td>NaN</td>\n",
       "      <td>0.796885</td>\n",
       "      <td>...</td>\n",
       "      <td>0.778826</td>\n",
       "      <td>0.795896</td>\n",
       "      <td>0.763212</td>\n",
       "      <td>0.761725</td>\n",
       "      <td>NaN</td>\n",
       "      <td>0.491457</td>\n",
       "      <td>NaN</td>\n",
       "      <td>30.090047</td>\n",
       "      <td>2266.771362</td>\n",
       "      <td>0.441561</td>\n",
       "    </tr>\n",
       "    <tr>\n",
       "      <th>min</th>\n",
       "      <td>NaN</td>\n",
       "      <td>0.000000</td>\n",
       "      <td>0.000000</td>\n",
       "      <td>0.000000</td>\n",
       "      <td>0.000000</td>\n",
       "      <td>0.000000</td>\n",
       "      <td>0.000000</td>\n",
       "      <td>0.000000</td>\n",
       "      <td>NaN</td>\n",
       "      <td>0.000000</td>\n",
       "      <td>...</td>\n",
       "      <td>0.000000</td>\n",
       "      <td>0.000000</td>\n",
       "      <td>0.000000</td>\n",
       "      <td>0.000000</td>\n",
       "      <td>NaN</td>\n",
       "      <td>0.000000</td>\n",
       "      <td>NaN</td>\n",
       "      <td>18.250000</td>\n",
       "      <td>18.800000</td>\n",
       "      <td>0.000000</td>\n",
       "    </tr>\n",
       "    <tr>\n",
       "      <th>25%</th>\n",
       "      <td>NaN</td>\n",
       "      <td>0.000000</td>\n",
       "      <td>0.000000</td>\n",
       "      <td>0.000000</td>\n",
       "      <td>0.000000</td>\n",
       "      <td>9.000000</td>\n",
       "      <td>1.000000</td>\n",
       "      <td>0.000000</td>\n",
       "      <td>NaN</td>\n",
       "      <td>0.000000</td>\n",
       "      <td>...</td>\n",
       "      <td>0.000000</td>\n",
       "      <td>0.000000</td>\n",
       "      <td>0.000000</td>\n",
       "      <td>0.000000</td>\n",
       "      <td>NaN</td>\n",
       "      <td>0.000000</td>\n",
       "      <td>NaN</td>\n",
       "      <td>35.500000</td>\n",
       "      <td>401.450000</td>\n",
       "      <td>0.000000</td>\n",
       "    </tr>\n",
       "    <tr>\n",
       "      <th>50%</th>\n",
       "      <td>NaN</td>\n",
       "      <td>1.000000</td>\n",
       "      <td>0.000000</td>\n",
       "      <td>0.000000</td>\n",
       "      <td>0.000000</td>\n",
       "      <td>29.000000</td>\n",
       "      <td>1.000000</td>\n",
       "      <td>1.000000</td>\n",
       "      <td>NaN</td>\n",
       "      <td>1.000000</td>\n",
       "      <td>...</td>\n",
       "      <td>1.000000</td>\n",
       "      <td>1.000000</td>\n",
       "      <td>1.000000</td>\n",
       "      <td>1.000000</td>\n",
       "      <td>NaN</td>\n",
       "      <td>1.000000</td>\n",
       "      <td>NaN</td>\n",
       "      <td>70.350000</td>\n",
       "      <td>1397.475000</td>\n",
       "      <td>0.000000</td>\n",
       "    </tr>\n",
       "    <tr>\n",
       "      <th>75%</th>\n",
       "      <td>NaN</td>\n",
       "      <td>1.000000</td>\n",
       "      <td>0.000000</td>\n",
       "      <td>1.000000</td>\n",
       "      <td>1.000000</td>\n",
       "      <td>55.000000</td>\n",
       "      <td>1.000000</td>\n",
       "      <td>1.000000</td>\n",
       "      <td>NaN</td>\n",
       "      <td>1.000000</td>\n",
       "      <td>...</td>\n",
       "      <td>1.000000</td>\n",
       "      <td>1.000000</td>\n",
       "      <td>1.000000</td>\n",
       "      <td>1.000000</td>\n",
       "      <td>NaN</td>\n",
       "      <td>1.000000</td>\n",
       "      <td>NaN</td>\n",
       "      <td>89.850000</td>\n",
       "      <td>3794.737500</td>\n",
       "      <td>1.000000</td>\n",
       "    </tr>\n",
       "    <tr>\n",
       "      <th>max</th>\n",
       "      <td>NaN</td>\n",
       "      <td>1.000000</td>\n",
       "      <td>1.000000</td>\n",
       "      <td>1.000000</td>\n",
       "      <td>1.000000</td>\n",
       "      <td>72.000000</td>\n",
       "      <td>1.000000</td>\n",
       "      <td>2.000000</td>\n",
       "      <td>NaN</td>\n",
       "      <td>2.000000</td>\n",
       "      <td>...</td>\n",
       "      <td>2.000000</td>\n",
       "      <td>2.000000</td>\n",
       "      <td>2.000000</td>\n",
       "      <td>2.000000</td>\n",
       "      <td>NaN</td>\n",
       "      <td>1.000000</td>\n",
       "      <td>NaN</td>\n",
       "      <td>118.750000</td>\n",
       "      <td>8684.800000</td>\n",
       "      <td>1.000000</td>\n",
       "    </tr>\n",
       "  </tbody>\n",
       "</table>\n",
       "<p>11 rows × 21 columns</p>\n",
       "</div>"
      ],
      "text/plain": [
       "        customerID       gender  SeniorCitizen      Partner   Dependents  \\\n",
       "count         7043  7043.000000    7043.000000  7043.000000  7043.000000   \n",
       "unique        7043          NaN            NaN          NaN          NaN   \n",
       "top     7590-VHVEG          NaN            NaN          NaN          NaN   \n",
       "freq             1          NaN            NaN          NaN          NaN   \n",
       "mean           NaN     0.504756       0.162147     0.483033     0.299588   \n",
       "std            NaN     0.500013       0.368612     0.499748     0.458110   \n",
       "min            NaN     0.000000       0.000000     0.000000     0.000000   \n",
       "25%            NaN     0.000000       0.000000     0.000000     0.000000   \n",
       "50%            NaN     1.000000       0.000000     0.000000     0.000000   \n",
       "75%            NaN     1.000000       0.000000     1.000000     1.000000   \n",
       "max            NaN     1.000000       1.000000     1.000000     1.000000   \n",
       "\n",
       "             tenure  PhoneService  MultipleLines InternetService  \\\n",
       "count   7043.000000   7043.000000    7043.000000            7043   \n",
       "unique          NaN           NaN            NaN               3   \n",
       "top             NaN           NaN            NaN     Fiber optic   \n",
       "freq            NaN           NaN            NaN            3096   \n",
       "mean      32.371149      0.903166       0.615505             NaN   \n",
       "std       24.559481      0.295752       0.656039             NaN   \n",
       "min        0.000000      0.000000       0.000000             NaN   \n",
       "25%        9.000000      1.000000       0.000000             NaN   \n",
       "50%       29.000000      1.000000       1.000000             NaN   \n",
       "75%       55.000000      1.000000       1.000000             NaN   \n",
       "max       72.000000      1.000000       2.000000             NaN   \n",
       "\n",
       "        OnlineSecurity  ...  DeviceProtection  TechSupport  StreamingTV  \\\n",
       "count      7043.000000  ...       7043.000000  7043.000000  7043.000000   \n",
       "unique             NaN  ...               NaN          NaN          NaN   \n",
       "top                NaN  ...               NaN          NaN          NaN   \n",
       "freq               NaN  ...               NaN          NaN          NaN   \n",
       "mean          0.720006  ...          0.777226     0.723555     0.817691   \n",
       "std           0.796885  ...          0.778826     0.795896     0.763212   \n",
       "min           0.000000  ...          0.000000     0.000000     0.000000   \n",
       "25%           0.000000  ...          0.000000     0.000000     0.000000   \n",
       "50%           1.000000  ...          1.000000     1.000000     1.000000   \n",
       "75%           1.000000  ...          1.000000     1.000000     1.000000   \n",
       "max           2.000000  ...          2.000000     2.000000     2.000000   \n",
       "\n",
       "        StreamingMovies        Contract PaperlessBilling     PaymentMethod  \\\n",
       "count       7043.000000            7043      7043.000000              7043   \n",
       "unique              NaN               3              NaN                 4   \n",
       "top                 NaN  Month-to-month              NaN  Electronic check   \n",
       "freq                NaN            3875              NaN              2365   \n",
       "mean           0.821241             NaN         0.592219               NaN   \n",
       "std            0.761725             NaN         0.491457               NaN   \n",
       "min            0.000000             NaN         0.000000               NaN   \n",
       "25%            0.000000             NaN         0.000000               NaN   \n",
       "50%            1.000000             NaN         1.000000               NaN   \n",
       "75%            1.000000             NaN         1.000000               NaN   \n",
       "max            2.000000             NaN         1.000000               NaN   \n",
       "\n",
       "       MonthlyCharges  TotalCharges        Churn  \n",
       "count     7043.000000   7032.000000  7043.000000  \n",
       "unique            NaN           NaN          NaN  \n",
       "top               NaN           NaN          NaN  \n",
       "freq              NaN           NaN          NaN  \n",
       "mean        64.761692   2283.300441     0.265370  \n",
       "std         30.090047   2266.771362     0.441561  \n",
       "min         18.250000     18.800000     0.000000  \n",
       "25%         35.500000    401.450000     0.000000  \n",
       "50%         70.350000   1397.475000     0.000000  \n",
       "75%         89.850000   3794.737500     1.000000  \n",
       "max        118.750000   8684.800000     1.000000  \n",
       "\n",
       "[11 rows x 21 columns]"
      ]
     },
     "execution_count": 19,
     "metadata": {},
     "output_type": "execute_result"
    }
   ],
   "source": [
    "df.describe(include = 'all')"
   ]
  },
  {
   "cell_type": "code",
   "execution_count": 20,
   "id": "5d51987d-8cde-46e9-981b-cde257dc2164",
   "metadata": {},
   "outputs": [
    {
     "data": {
      "text/plain": [
       "<Axes: xlabel='MonthlyCharges', ylabel='Count'>"
      ]
     },
     "execution_count": 20,
     "metadata": {},
     "output_type": "execute_result"
    },
    {
     "data": {
      "image/png": "[encoded data removed]",
      "text/plain": [
       "<Figure size 640x480 with 1 Axes>"
      ]
     },
     "metadata": {},
     "output_type": "display_data"
    }
   ],
   "source": [
    "sns.histplot(df['MonthlyCharges'], kde = True)"
   ]
  },
  {
   "cell_type": "code",
   "execution_count": 21,
   "id": "b2736635-68a8-4797-9852-b397f1e391d7",
   "metadata": {},
   "outputs": [
    {
     "data": {
      "text/plain": [
       "<Axes: xlabel='Churn', ylabel='MonthlyCharges'>"
      ]
     },
     "execution_count": 21,
     "metadata": {},
     "output_type": "execute_result"
    },
    {
     "data": {
      "image/png": "[encoded data removed]",
      "text/plain": [
       "<Figure size 640x480 with 1 Axes>"
      ]
     },
     "metadata": {},
     "output_type": "display_data"
    }
   ],
   "source": [
    "sns.boxplot(x = 'Churn', y = 'MonthlyCharges', data = df)"
   ]
  },
  {
   "cell_type": "code",
   "execution_count": 22,
   "id": "8a467b9a-979f-4de9-85e4-3f5b2dc1dede",
   "metadata": {},
   "outputs": [
    {
     "data": {
      "text/plain": [
       "<Axes: xlabel='TotalCharges', ylabel='Count'>"
      ]
     },
     "execution_count": 22,
     "metadata": {},
     "output_type": "execute_result"
    },
    {
     "data": {
      "image/png": "[encoded data removed]",
      "text/plain": [
       "<Figure size 640x480 with 1 Axes>"
      ]
     },
     "metadata": {},
     "output_type": "display_data"
    }
   ],
   "source": [
    "sns.histplot(df['TotalCharges'], kde = True)"
   ]
  },
  {
   "cell_type": "code",
   "execution_count": 23,
   "id": "cb9db6a2-f457-4c93-ae35-def0b128c727",
   "metadata": {},
   "outputs": [
    {
     "data": {
      "text/plain": [
       "<Axes: xlabel='Churn', ylabel='TotalCharges'>"
      ]
     },
     "execution_count": 23,
     "metadata": {},
     "output_type": "execute_result"
    },
    {
     "data": {
      "image/png": "[encoded data removed]",
      "text/plain": [
       "<Figure size 640x480 with 1 Axes>"
      ]
     },
     "metadata": {},
     "output_type": "display_data"
    }
   ],
   "source": [
    "sns.boxplot(x = 'Churn', y = 'TotalCharges', data = df)"
   ]
  },
  {
   "cell_type": "code",
   "execution_count": 24,
   "id": "88de056c-ea5b-4f9d-8df7-107aec32c211",
   "metadata": {},
   "outputs": [
    {
     "data": {
      "image/png": "[encoded data removed]",
      "text/plain": [
       "<Figure size 640x480 with 1 Axes>"
      ]
     },
     "metadata": {},
     "output_type": "display_data"
    }
   ],
   "source": [
    "sns.countplot(x='Contract', hue = 'Churn', data = df)\n",
    "plt.title('Contract Types')\n",
    "plt.xticks(rotation = 45)\n",
    "plt.show()"
   ]
  },
  {
   "cell_type": "code",
   "execution_count": 25,
   "id": "e7a044c5-05d6-40fd-b024-8d0f6be2ca90",
   "metadata": {},
   "outputs": [
    {
     "data": {
      "text/html": [
       "<div>\n",
       "<style scoped>\n",
       "    .dataframe tbody tr th:only-of-type {\n",
       "        vertical-align: middle;\n",
       "    }\n",
       "\n",
       "    .dataframe tbody tr th {\n",
       "        vertical-align: top;\n",
       "    }\n",
       "\n",
       "    .dataframe thead th {\n",
       "        text-align: right;\n",
       "    }\n",
       "</style>\n",
       "<table border=\"1\" class=\"dataframe\">\n",
       "  <thead>\n",
       "    <tr style=\"text-align: right;\">\n",
       "      <th>Churn</th>\n",
       "      <th>0</th>\n",
       "      <th>1</th>\n",
       "    </tr>\n",
       "    <tr>\n",
       "      <th>Contract</th>\n",
       "      <th></th>\n",
       "      <th></th>\n",
       "    </tr>\n",
       "  </thead>\n",
       "  <tbody>\n",
       "    <tr>\n",
       "      <th>Month-to-month</th>\n",
       "      <td>2220</td>\n",
       "      <td>1655</td>\n",
       "    </tr>\n",
       "    <tr>\n",
       "      <th>One year</th>\n",
       "      <td>1307</td>\n",
       "      <td>166</td>\n",
       "    </tr>\n",
       "    <tr>\n",
       "      <th>Two year</th>\n",
       "      <td>1647</td>\n",
       "      <td>48</td>\n",
       "    </tr>\n",
       "  </tbody>\n",
       "</table>\n",
       "</div>"
      ],
      "text/plain": [
       "Churn              0     1\n",
       "Contract                  \n",
       "Month-to-month  2220  1655\n",
       "One year        1307   166\n",
       "Two year        1647    48"
      ]
     },
     "execution_count": 25,
     "metadata": {},
     "output_type": "execute_result"
    }
   ],
   "source": [
    "# count of each contract type churned  - 1 means the customer in this contract type churned last month\n",
    "pd.crosstab(df['Contract'], df['Churn'])"
   ]
  },
  {
   "cell_type": "code",
   "execution_count": 26,
   "id": "084c431d-783d-41f2-9fe6-b8bc95328193",
   "metadata": {},
   "outputs": [
    {
     "data": {
      "text/html": [
       "<div>\n",
       "<style scoped>\n",
       "    .dataframe tbody tr th:only-of-type {\n",
       "        vertical-align: middle;\n",
       "    }\n",
       "\n",
       "    .dataframe tbody tr th {\n",
       "        vertical-align: top;\n",
       "    }\n",
       "\n",
       "    .dataframe thead th {\n",
       "        text-align: right;\n",
       "    }\n",
       "</style>\n",
       "<table border=\"1\" class=\"dataframe\">\n",
       "  <thead>\n",
       "    <tr style=\"text-align: right;\">\n",
       "      <th>Churn</th>\n",
       "      <th>0</th>\n",
       "      <th>1</th>\n",
       "    </tr>\n",
       "    <tr>\n",
       "      <th>Contract</th>\n",
       "      <th></th>\n",
       "      <th></th>\n",
       "    </tr>\n",
       "  </thead>\n",
       "  <tbody>\n",
       "    <tr>\n",
       "      <th>Month-to-month</th>\n",
       "      <td>0.572903</td>\n",
       "      <td>0.427097</td>\n",
       "    </tr>\n",
       "    <tr>\n",
       "      <th>One year</th>\n",
       "      <td>0.887305</td>\n",
       "      <td>0.112695</td>\n",
       "    </tr>\n",
       "    <tr>\n",
       "      <th>Two year</th>\n",
       "      <td>0.971681</td>\n",
       "      <td>0.028319</td>\n",
       "    </tr>\n",
       "  </tbody>\n",
       "</table>\n",
       "</div>"
      ],
      "text/plain": [
       "Churn                  0         1\n",
       "Contract                          \n",
       "Month-to-month  0.572903  0.427097\n",
       "One year        0.887305  0.112695\n",
       "Two year        0.971681  0.028319"
      ]
     },
     "execution_count": 26,
     "metadata": {},
     "output_type": "execute_result"
    }
   ],
   "source": [
    "# % of customers with each contract type churned\n",
    "pd.crosstab(df['Contract'], df['Churn'], normalize = 'index')"
   ]
  },
  {
   "cell_type": "code",
   "execution_count": 31,
   "id": "18505d1d-c38f-470c-ac74-d9ad1d715823",
   "metadata": {
    "scrolled": true
   },
   "outputs": [
    {
     "name": "stdout",
     "output_type": "stream",
     "text": [
      "Churn               1.000000\n",
      "MonthlyCharges      0.193356\n",
      "PaperlessBilling    0.191825\n",
      "SeniorCitizen       0.150889\n",
      "MultipleLines       0.019423\n",
      "PhoneService        0.011942\n",
      "gender             -0.008612\n",
      "Partner            -0.150448\n",
      "Dependents         -0.164221\n",
      "TotalCharges       -0.199484\n",
      "StreamingTV        -0.205742\n",
      "StreamingMovies    -0.207256\n",
      "DeviceProtection   -0.281465\n",
      "OnlineBackup       -0.291449\n",
      "TechSupport        -0.329852\n",
      "OnlineSecurity     -0.332819\n",
      "tenure             -0.352229\n",
      "Name: Churn, dtype: float64\n"
     ]
    }
   ],
   "source": [
    "# Get correlation matrix of numeric columns\n",
    "corr = df.corr(numeric_only=True)\n",
    "\n",
    "# Slice just the 'Churn' correlations, sort by strength\n",
    "churn_corr = corr['Churn'].sort_values(ascending=False)\n",
    "\n",
    "print(churn_corr)"
   ]
  },
  {
   "cell_type": "code",
   "execution_count": 29,
   "id": "1eb29a20-bb5f-43f9-a97f-4ea53e273eab",
   "metadata": {},
   "outputs": [
    {
     "name": "stderr",
     "output_type": "stream",
     "text": [
      "C:\\Users\\Paulina\\anaconda3\\Lib\\site-packages\\seaborn\\axisgrid.py:118: UserWarning: The figure layout has changed to tight\n",
      "  self._figure.tight_layout(*args, **kwargs)\n"
     ]
    },
    {
     "data": {
      "text/plain": [
       "<seaborn.axisgrid.FacetGrid at 0x263972dad10>"
      ]
     },
     "execution_count": 29,
     "metadata": {},
     "output_type": "execute_result"
    },
    {
     "data": {
      "image/png": "[encoded data removed]",
      "text/plain": [
       "<Figure size 1000x500 with 2 Axes>"
      ]
     },
     "metadata": {},
     "output_type": "display_data"
    }
   ],
   "source": [
    "sns.displot(data=df, x=df['TotalCharges'], col=df['Churn'], kde=True)"
   ]
  },
  {
   "cell_type": "markdown",
   "id": "a842bedc-c7b6-4549-ae03-bc995315965c",
   "metadata": {},
   "source": [
    "Summarizing cell of EDA:\n",
    "- churn is highest among customers with month-to-month contracts - 42.7% of clients with month-to-month contract churned\n",
    "- clients with higher monthly charges are more probable to churn\n",
    "- clinets who have a higher total of charges are more probable to stay - loyal customers will stay longer, a lot of outliers on the higher end supports it\n",
    "- "
   ]
  }
 ],
 "metadata": {
  "kernelspec": {
   "display_name": "Python [conda env:base] *",
   "language": "python",
   "name": "conda-base-py"
  },
  "language_info": {
   "codemirror_mode": {
    "name": "ipython",
    "version": 3
   },
   "file_extension": ".py",
   "mimetype": "text/x-python",
   "name": "python",
   "nbconvert_exporter": "python",
   "pygments_lexer": "ipython3",
   "version": "3.11.5"
  }
 },
 "nbformat": 4,
 "nbformat_minor": 5
}
