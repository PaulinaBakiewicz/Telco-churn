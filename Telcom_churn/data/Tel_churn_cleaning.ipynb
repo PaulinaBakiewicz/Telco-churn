{
 "cells": [
  {
   "cell_type": "markdown",
   "id": "d960dd8f-c023-47cd-887e-431c9c07a28e",
   "metadata": {},
   "source": [
    "# Telco customer churn data analysis \n",
    "\n",
    "This Jupyter notebook explores Telco churn data available on [Kaggle](https://www.kaggle.com/datasets/blastchar/telco-customer-churn)"
   ]
  },
  {
   "cell_type": "code",
   "execution_count": 2,
   "id": "55fa4760-48c1-490e-a87a-c44fff147422",
   "metadata": {},
   "outputs": [],
   "source": [
    "import pandas as pd\n",
    "import seaborn as sns\n",
    "import matplotlib as plt"
   ]
  },
  {
   "cell_type": "code",
   "execution_count": 3,
   "id": "f167be7e-a2d9-49d1-a27b-93825db631f1",
   "metadata": {},
   "outputs": [],
   "source": [
    "#reading the csv file with data\n",
    "df = pd.read_csv(r\"C:\\Users\\Paulina\\Desktop\\Projects_Git\\Telcom_churn\\data\\Telco_churn.csv\")"
   ]
  },
  {
   "cell_type": "markdown",
   "id": "c848c959-fe31-4209-aae0-35e97f8b1d88",
   "metadata": {},
   "source": [
    "## Data exploration\n",
    "\n",
    "This part explores the columns and the values included in it."
   ]
  },
  {
   "cell_type": "code",
   "execution_count": 5,
   "id": "511cd90d-c7ca-4fff-9a60-d97f2ccd90a3",
   "metadata": {
    "scrolled": true
   },
   "outputs": [
    {
     "name": "stdout",
     "output_type": "stream",
     "text": [
      "<class 'pandas.core.frame.DataFrame'>\n",
      "RangeIndex: 7043 entries, 0 to 7042\n",
      "Data columns (total 21 columns):\n",
      " #   Column            Non-Null Count  Dtype  \n",
      "---  ------            --------------  -----  \n",
      " 0   customerID        7043 non-null   object \n",
      " 1   gender            7043 non-null   object \n",
      " 2   SeniorCitizen     7043 non-null   int64  \n",
      " 3   Partner           7043 non-null   object \n",
      " 4   Dependents        7043 non-null   object \n",
      " 5   tenure            7043 non-null   int64  \n",
      " 6   PhoneService      7043 non-null   object \n",
      " 7   MultipleLines     7043 non-null   object \n",
      " 8   InternetService   7043 non-null   object \n",
      " 9   OnlineSecurity    7043 non-null   object \n",
      " 10  OnlineBackup      7043 non-null   object \n",
      " 11  DeviceProtection  7043 non-null   object \n",
      " 12  TechSupport       7043 non-null   object \n",
      " 13  StreamingTV       7043 non-null   object \n",
      " 14  StreamingMovies   7043 non-null   object \n",
      " 15  Contract          7043 non-null   object \n",
      " 16  PaperlessBilling  7043 non-null   object \n",
      " 17  PaymentMethod     7043 non-null   object \n",
      " 18  MonthlyCharges    7043 non-null   float64\n",
      " 19  TotalCharges      7043 non-null   object \n",
      " 20  Churn             7043 non-null   object \n",
      "dtypes: float64(1), int64(2), object(18)\n",
      "memory usage: 1.1+ MB\n"
     ]
    }
   ],
   "source": [
    "df.info() #shows column entry types and the number of filled rows in each column"
   ]
  },
  {
   "cell_type": "code",
   "execution_count": 6,
   "id": "53ccaba0-6fe1-4b2c-9fbd-f40ae47704a5",
   "metadata": {
    "scrolled": true
   },
   "outputs": [
    {
     "data": {
      "text/html": [
       "<div>\n",
       "<style scoped>\n",
       "    .dataframe tbody tr th:only-of-type {\n",
       "        vertical-align: middle;\n",
       "    }\n",
       "\n",
       "    .dataframe tbody tr th {\n",
       "        vertical-align: top;\n",
       "    }\n",
       "\n",
       "    .dataframe thead th {\n",
       "        text-align: right;\n",
       "    }\n",
       "</style>\n",
       "<table border=\"1\" class=\"dataframe\">\n",
       "  <thead>\n",
       "    <tr style=\"text-align: right;\">\n",
       "      <th></th>\n",
       "      <th>customerID</th>\n",
       "      <th>gender</th>\n",
       "      <th>SeniorCitizen</th>\n",
       "      <th>Partner</th>\n",
       "      <th>Dependents</th>\n",
       "      <th>tenure</th>\n",
       "      <th>PhoneService</th>\n",
       "      <th>MultipleLines</th>\n",
       "      <th>InternetService</th>\n",
       "      <th>OnlineSecurity</th>\n",
       "      <th>...</th>\n",
       "      <th>DeviceProtection</th>\n",
       "      <th>TechSupport</th>\n",
       "      <th>StreamingTV</th>\n",
       "      <th>StreamingMovies</th>\n",
       "      <th>Contract</th>\n",
       "      <th>PaperlessBilling</th>\n",
       "      <th>PaymentMethod</th>\n",
       "      <th>MonthlyCharges</th>\n",
       "      <th>TotalCharges</th>\n",
       "      <th>Churn</th>\n",
       "    </tr>\n",
       "  </thead>\n",
       "  <tbody>\n",
       "    <tr>\n",
       "      <th>0</th>\n",
       "      <td>7590-VHVEG</td>\n",
       "      <td>Female</td>\n",
       "      <td>0</td>\n",
       "      <td>Yes</td>\n",
       "      <td>No</td>\n",
       "      <td>1</td>\n",
       "      <td>No</td>\n",
       "      <td>No phone service</td>\n",
       "      <td>DSL</td>\n",
       "      <td>No</td>\n",
       "      <td>...</td>\n",
       "      <td>No</td>\n",
       "      <td>No</td>\n",
       "      <td>No</td>\n",
       "      <td>No</td>\n",
       "      <td>Month-to-month</td>\n",
       "      <td>Yes</td>\n",
       "      <td>Electronic check</td>\n",
       "      <td>29.85</td>\n",
       "      <td>29.85</td>\n",
       "      <td>No</td>\n",
       "    </tr>\n",
       "    <tr>\n",
       "      <th>1</th>\n",
       "      <td>5575-GNVDE</td>\n",
       "      <td>Male</td>\n",
       "      <td>0</td>\n",
       "      <td>No</td>\n",
       "      <td>No</td>\n",
       "      <td>34</td>\n",
       "      <td>Yes</td>\n",
       "      <td>No</td>\n",
       "      <td>DSL</td>\n",
       "      <td>Yes</td>\n",
       "      <td>...</td>\n",
       "      <td>Yes</td>\n",
       "      <td>No</td>\n",
       "      <td>No</td>\n",
       "      <td>No</td>\n",
       "      <td>One year</td>\n",
       "      <td>No</td>\n",
       "      <td>Mailed check</td>\n",
       "      <td>56.95</td>\n",
       "      <td>1889.5</td>\n",
       "      <td>No</td>\n",
       "    </tr>\n",
       "    <tr>\n",
       "      <th>2</th>\n",
       "      <td>3668-QPYBK</td>\n",
       "      <td>Male</td>\n",
       "      <td>0</td>\n",
       "      <td>No</td>\n",
       "      <td>No</td>\n",
       "      <td>2</td>\n",
       "      <td>Yes</td>\n",
       "      <td>No</td>\n",
       "      <td>DSL</td>\n",
       "      <td>Yes</td>\n",
       "      <td>...</td>\n",
       "      <td>No</td>\n",
       "      <td>No</td>\n",
       "      <td>No</td>\n",
       "      <td>No</td>\n",
       "      <td>Month-to-month</td>\n",
       "      <td>Yes</td>\n",
       "      <td>Mailed check</td>\n",
       "      <td>53.85</td>\n",
       "      <td>108.15</td>\n",
       "      <td>Yes</td>\n",
       "    </tr>\n",
       "    <tr>\n",
       "      <th>3</th>\n",
       "      <td>7795-CFOCW</td>\n",
       "      <td>Male</td>\n",
       "      <td>0</td>\n",
       "      <td>No</td>\n",
       "      <td>No</td>\n",
       "      <td>45</td>\n",
       "      <td>No</td>\n",
       "      <td>No phone service</td>\n",
       "      <td>DSL</td>\n",
       "      <td>Yes</td>\n",
       "      <td>...</td>\n",
       "      <td>Yes</td>\n",
       "      <td>Yes</td>\n",
       "      <td>No</td>\n",
       "      <td>No</td>\n",
       "      <td>One year</td>\n",
       "      <td>No</td>\n",
       "      <td>Bank transfer (automatic)</td>\n",
       "      <td>42.30</td>\n",
       "      <td>1840.75</td>\n",
       "      <td>No</td>\n",
       "    </tr>\n",
       "    <tr>\n",
       "      <th>4</th>\n",
       "      <td>9237-HQITU</td>\n",
       "      <td>Female</td>\n",
       "      <td>0</td>\n",
       "      <td>No</td>\n",
       "      <td>No</td>\n",
       "      <td>2</td>\n",
       "      <td>Yes</td>\n",
       "      <td>No</td>\n",
       "      <td>Fiber optic</td>\n",
       "      <td>No</td>\n",
       "      <td>...</td>\n",
       "      <td>No</td>\n",
       "      <td>No</td>\n",
       "      <td>No</td>\n",
       "      <td>No</td>\n",
       "      <td>Month-to-month</td>\n",
       "      <td>Yes</td>\n",
       "      <td>Electronic check</td>\n",
       "      <td>70.70</td>\n",
       "      <td>151.65</td>\n",
       "      <td>Yes</td>\n",
       "    </tr>\n",
       "  </tbody>\n",
       "</table>\n",
       "<p>5 rows × 21 columns</p>\n",
       "</div>"
      ],
      "text/plain": [
       "   customerID  gender  SeniorCitizen Partner Dependents  tenure PhoneService  \\\n",
       "0  7590-VHVEG  Female              0     Yes         No       1           No   \n",
       "1  5575-GNVDE    Male              0      No         No      34          Yes   \n",
       "2  3668-QPYBK    Male              0      No         No       2          Yes   \n",
       "3  7795-CFOCW    Male              0      No         No      45           No   \n",
       "4  9237-HQITU  Female              0      No         No       2          Yes   \n",
       "\n",
       "      MultipleLines InternetService OnlineSecurity  ... DeviceProtection  \\\n",
       "0  No phone service             DSL             No  ...               No   \n",
       "1                No             DSL            Yes  ...              Yes   \n",
       "2                No             DSL            Yes  ...               No   \n",
       "3  No phone service             DSL            Yes  ...              Yes   \n",
       "4                No     Fiber optic             No  ...               No   \n",
       "\n",
       "  TechSupport StreamingTV StreamingMovies        Contract PaperlessBilling  \\\n",
       "0          No          No              No  Month-to-month              Yes   \n",
       "1          No          No              No        One year               No   \n",
       "2          No          No              No  Month-to-month              Yes   \n",
       "3         Yes          No              No        One year               No   \n",
       "4          No          No              No  Month-to-month              Yes   \n",
       "\n",
       "               PaymentMethod MonthlyCharges  TotalCharges Churn  \n",
       "0           Electronic check          29.85         29.85    No  \n",
       "1               Mailed check          56.95        1889.5    No  \n",
       "2               Mailed check          53.85        108.15   Yes  \n",
       "3  Bank transfer (automatic)          42.30       1840.75    No  \n",
       "4           Electronic check          70.70        151.65   Yes  \n",
       "\n",
       "[5 rows x 21 columns]"
      ]
     },
     "execution_count": 6,
     "metadata": {},
     "output_type": "execute_result"
    }
   ],
   "source": [
    "df.head()"
   ]
  },
  {
   "cell_type": "markdown",
   "id": "44369ae8-082f-4029-a020-cda16c3de6f3",
   "metadata": {},
   "source": [
    "We can see that there are numerous columns with Yes/No values - I will be chnaging it into numerical values 0 and 1 during data cleaning. Any machine learning models will not be able to use categorical values so it's better to change them. Additionally, TotalCharges is registered as an object but they look like floating numbers. This will be changed as well to allow calculations. "
   ]
  },
  {
   "cell_type": "markdown",
   "id": "0edc13f3-50bd-4927-bdc6-d0d135791f64",
   "metadata": {},
   "source": [
    "I can anticipate that there will be probably no missing values after seeing the Non-Null count in `.head()`, but let's check it to be sure."
   ]
  },
  {
   "cell_type": "code",
   "execution_count": 9,
   "id": "91d27533-7879-40a2-b3e2-8b5a3edb540a",
   "metadata": {},
   "outputs": [
    {
     "name": "stdout",
     "output_type": "stream",
     "text": [
      "Total number of missing values:\n",
      "customerID          0\n",
      "gender              0\n",
      "SeniorCitizen       0\n",
      "Partner             0\n",
      "Dependents          0\n",
      "tenure              0\n",
      "PhoneService        0\n",
      "MultipleLines       0\n",
      "InternetService     0\n",
      "OnlineSecurity      0\n",
      "OnlineBackup        0\n",
      "DeviceProtection    0\n",
      "TechSupport         0\n",
      "StreamingTV         0\n",
      "StreamingMovies     0\n",
      "Contract            0\n",
      "PaperlessBilling    0\n",
      "PaymentMethod       0\n",
      "MonthlyCharges      0\n",
      "TotalCharges        0\n",
      "Churn               0\n",
      "dtype: int64\n"
     ]
    }
   ],
   "source": [
    "#checking for missing values\n",
    "print('Total number of missing values:')\n",
    "print(df.isna().sum())"
   ]
  },
  {
   "cell_type": "markdown",
   "id": "4f4fcf63-e25c-4837-946a-b7017713ae35",
   "metadata": {},
   "source": [
    "Let's explore unique values for our cathegorical columns, because they may contain more than just `'Yes'` and `'No'` entries. "
   ]
  },
  {
   "cell_type": "code",
   "execution_count": 11,
   "id": "d7a58390-ed0f-4140-95d9-770389086d47",
   "metadata": {},
   "outputs": [
    {
     "name": "stdout",
     "output_type": "stream",
     "text": [
      "Column:customerID\n",
      "Unique values (7043):['7590-VHVEG' '5575-GNVDE' '3668-QPYBK' ... '4801-JZAZL' '8361-LTMKD'\n",
      " '3186-AJIEK']\n",
      "----------------------------------------\n",
      "Column:gender\n",
      "Unique values (2):['Female' 'Male']\n",
      "----------------------------------------\n",
      "Column:Partner\n",
      "Unique values (2):['Yes' 'No']\n",
      "----------------------------------------\n",
      "Column:Dependents\n",
      "Unique values (2):['No' 'Yes']\n",
      "----------------------------------------\n",
      "Column:PhoneService\n",
      "Unique values (2):['No' 'Yes']\n",
      "----------------------------------------\n",
      "Column:MultipleLines\n",
      "Unique values (3):['No phone service' 'No' 'Yes']\n",
      "----------------------------------------\n",
      "Column:InternetService\n",
      "Unique values (3):['DSL' 'Fiber optic' 'No']\n",
      "----------------------------------------\n",
      "Column:OnlineSecurity\n",
      "Unique values (3):['No' 'Yes' 'No internet service']\n",
      "----------------------------------------\n",
      "Column:OnlineBackup\n",
      "Unique values (3):['Yes' 'No' 'No internet service']\n",
      "----------------------------------------\n",
      "Column:DeviceProtection\n",
      "Unique values (3):['No' 'Yes' 'No internet service']\n",
      "----------------------------------------\n",
      "Column:TechSupport\n",
      "Unique values (3):['No' 'Yes' 'No internet service']\n",
      "----------------------------------------\n",
      "Column:StreamingTV\n",
      "Unique values (3):['No' 'Yes' 'No internet service']\n",
      "----------------------------------------\n",
      "Column:StreamingMovies\n",
      "Unique values (3):['No' 'Yes' 'No internet service']\n",
      "----------------------------------------\n",
      "Column:Contract\n",
      "Unique values (3):['Month-to-month' 'One year' 'Two year']\n",
      "----------------------------------------\n",
      "Column:PaperlessBilling\n",
      "Unique values (2):['Yes' 'No']\n",
      "----------------------------------------\n",
      "Column:PaymentMethod\n",
      "Unique values (4):['Electronic check' 'Mailed check' 'Bank transfer (automatic)'\n",
      " 'Credit card (automatic)']\n",
      "----------------------------------------\n",
      "Column:TotalCharges\n",
      "Unique values (6531):['29.85' '1889.5' '108.15' ... '346.45' '306.6' '6844.5']\n",
      "----------------------------------------\n",
      "Column:Churn\n",
      "Unique values (2):['No' 'Yes']\n",
      "----------------------------------------\n"
     ]
    }
   ],
   "source": [
    "cat_cols = df.select_dtypes(include = 'object').columns\n",
    "\n",
    "for col in cat_cols:\n",
    "    uniques = df[col].unique()\n",
    "    print(f'Column:{col}')\n",
    "    print(f'Unique values ({len(uniques)}):{uniques}')\n",
    "    print('-'*40)"
   ]
  },
  {
   "cell_type": "markdown",
   "id": "d025d7ca-3db7-4b14-bf98-0bf28cb05fd0",
   "metadata": {},
   "source": [
    "## Data cleaning\n",
    "\n",
    "Includes changing datatypes and encoding categorical variables for modelling. Let's change all 'Yes' into 1 and 'No' into 0. "
   ]
  },
  {
   "cell_type": "code",
   "execution_count": 13,
   "id": "82742f59-5c63-4e36-80cf-1647c9668475",
   "metadata": {},
   "outputs": [],
   "source": [
    "# changing the string entires into numeric values with errors showing as NaN.\n",
    "df['TotalCharges'] = pd.to_numeric(df['TotalCharges'], errors='coerce')"
   ]
  },
  {
   "cell_type": "code",
   "execution_count": 14,
   "id": "b88cad61-ca8e-4cca-aff1-dc4b67aad83a",
   "metadata": {},
   "outputs": [],
   "source": [
    "# creating a copy of dataframe to have a backup before implementing big changes\n",
    "# especially useful for data visualizations in Tableau because we retain string values instead of numerical ones\n",
    "df_copy = df.copy()"
   ]
  },
  {
   "cell_type": "code",
   "execution_count": 15,
   "id": "7c1b18c1-64cb-4f17-9337-8518ec5997e8",
   "metadata": {},
   "outputs": [],
   "source": [
    "change_yes_no = ['Partner', 'Dependents', 'PhoneService', 'PaperlessBilling', 'Churn']\n",
    "change_yes_no_nis = ['OnlineSecurity', 'OnlineBackup', 'DeviceProtection', 'TechSupport', 'StreamingTV', 'StreamingMovies']\n",
    "\n",
    "\n",
    "# changing the yes into 1 and No into 0 in columns that only have those 2 unique entries:\n",
    "for col in change_yes_no:\n",
    "    df[col] = df[col].replace('Yes', 1)\n",
    "    df[col] = df[col].replace('No', 0)\n",
    "\n",
    "# changing Yes into 1, No into 0 and No internet service into 2 \n",
    "for col in change_yes_no_nis:\n",
    "    df[col] = df[col].replace('Yes', 1)\n",
    "    df[col] = df[col].replace('No', 0)\n",
    "    df[col] = df[col].replace('No internet service', 2)\n",
    "\n",
    "# changing female into 0 and male into 1\n",
    "df['gender'] = df['gender'].replace('Female', 0)\n",
    "df['gender'] = df['gender'].replace('Male', 1)\n",
    "\n",
    "# changing the MultipleLines in similiar way\n",
    "df['MultipleLines'] = df['MultipleLines'].replace('No', 0)\n",
    "df['MultipleLines'] = df['MultipleLines'].replace('Yes', 1)\n",
    "df['MultipleLines'] = df['MultipleLines'].replace('No phone service', 2)\n"
   ]
  },
  {
   "cell_type": "code",
   "execution_count": 16,
   "id": "1ca4d719-f37d-4116-a894-661e537c6139",
   "metadata": {},
   "outputs": [
    {
     "name": "stdout",
     "output_type": "stream",
     "text": [
      "Column:customerID\n",
      "Unique values (7043):['7590-VHVEG' '5575-GNVDE' '3668-QPYBK' ... '4801-JZAZL' '8361-LTMKD'\n",
      " '3186-AJIEK']\n",
      "----------------------------------------\n",
      "Column:InternetService\n",
      "Unique values (3):['DSL' 'Fiber optic' 'No']\n",
      "----------------------------------------\n",
      "Column:Contract\n",
      "Unique values (3):['Month-to-month' 'One year' 'Two year']\n",
      "----------------------------------------\n",
      "Column:PaymentMethod\n",
      "Unique values (4):['Electronic check' 'Mailed check' 'Bank transfer (automatic)'\n",
      " 'Credit card (automatic)']\n",
      "----------------------------------------\n"
     ]
    }
   ],
   "source": [
    "cat_cols = df.select_dtypes(include = 'object').columns\n",
    "\n",
    "for col in cat_cols:\n",
    "    uniques = df[col].unique()\n",
    "    print(f'Column:{col}')\n",
    "    print(f'Unique values ({len(uniques)}):{uniques}')\n",
    "    print('-'*40)"
   ]
  },
  {
   "cell_type": "markdown",
   "id": "79311b46-4130-4b45-adfd-294f6a1c5769",
   "metadata": {},
   "source": [
    "I'll leave the rest of the columns as they are right now to preserve the information. "
   ]
  },
  {
   "cell_type": "code",
   "execution_count": null,
   "id": "7ae455a1-03b6-4746-a2c7-e13d531c6954",
   "metadata": {},
   "outputs": [],
   "source": []
  }
 ],
 "metadata": {
  "kernelspec": {
   "display_name": "Python [conda env:base] *",
   "language": "python",
   "name": "conda-base-py"
  },
  "language_info": {
   "codemirror_mode": {
    "name": "ipython",
    "version": 3
   },
   "file_extension": ".py",
   "mimetype": "text/x-python",
   "name": "python",
   "nbconvert_exporter": "python",
   "pygments_lexer": "ipython3",
   "version": "3.11.5"
  }
 },
 "nbformat": 4,
 "nbformat_minor": 5
}
